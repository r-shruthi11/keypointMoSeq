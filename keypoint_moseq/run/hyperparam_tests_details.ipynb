{
 "cells": [
  {
   "cell_type": "code",
   "execution_count": 1,
   "id": "6cb81c98",
   "metadata": {},
   "outputs": [],
   "source": [
    "%load_ext autoreload\n",
    "%autoreload 2"
   ]
  },
  {
   "cell_type": "markdown",
   "id": "c957e4b9",
   "metadata": {},
   "source": [
    "### Imports"
   ]
  },
  {
   "cell_type": "code",
   "execution_count": 2,
   "id": "e2323762",
   "metadata": {},
   "outputs": [
    {
     "name": "stderr",
     "output_type": "stream",
     "text": [
      "2023-03-07 08:38:25.130369: W external/org_tensorflow/tensorflow/tsl/platform/default/dso_loader.cc:66] Could not load dynamic library 'libcuda.so.1'; dlerror: libcuda.so.1: cannot open shared object file: No such file or directory\n",
      "2023-03-07 08:38:25.130406: W external/org_tensorflow/tensorflow/compiler/xla/stream_executor/cuda/cuda_driver.cc:265] failed call to cuInit: UNKNOWN ERROR (303)\n",
      "No GPU/TPU found, falling back to CPU. (Set TF_CPP_MIN_LOG_LEVEL=0 and rerun for more info.)\n"
     ]
    },
    {
     "name": "stdout",
     "output_type": "stream",
     "text": [
      "[CpuDevice(id=0)]\n",
      "0.4.1\n"
     ]
    }
   ],
   "source": [
    "import jax\n",
    "print(jax.devices())\n",
    "print(jax.__version__)"
   ]
  },
  {
   "cell_type": "code",
   "execution_count": 3,
   "id": "dda2d4da",
   "metadata": {},
   "outputs": [],
   "source": [
    "import numpy as np\n",
    "import jax.numpy as jnp\n",
    "import matplotlib.pyplot as plt"
   ]
  },
  {
   "cell_type": "code",
   "execution_count": 4,
   "id": "varying-morrison",
   "metadata": {},
   "outputs": [
    {
     "name": "stderr",
     "output_type": "stream",
     "text": [
      "2023-03-07 08:38:55.248314: W tensorflow/stream_executor/platform/default/dso_loader.cc:64] Could not load dynamic library 'libcuda.so.1'; dlerror: libcuda.so.1: cannot open shared object file: No such file or directory; LD_LIBRARY_PATH: /tigress/shruthi/miniconda3/envs/keypoint_moseq_sleap/lib/python3.8/site-packages/cv2/../../lib64:\n",
      "2023-03-07 08:38:55.248349: W tensorflow/stream_executor/cuda/cuda_driver.cc:269] failed call to cuInit: UNKNOWN ERROR (303)\n"
     ]
    }
   ],
   "source": [
    "from jax.config import config\n",
    "config.update('jax_enable_x64', True)\n",
    "import keypoint_moseq as kpm"
   ]
  },
  {
   "cell_type": "markdown",
   "id": "cd4bcf6d",
   "metadata": {},
   "source": [
    "### Create config files and directories for hyperparam sweep "
   ]
  },
  {
   "cell_type": "code",
   "execution_count": 5,
   "id": "53957159",
   "metadata": {},
   "outputs": [],
   "source": [
    "import itertools"
   ]
  },
  {
   "cell_type": "code",
   "execution_count": 16,
   "id": "39eb893d",
   "metadata": {},
   "outputs": [],
   "source": [
    "hyper = {\"kappa\": list(np.logspace(2, 12, num=6, base=10,dtype=float)),\n",
    "        \"nlags\": [1, 3, 5, 10],\n",
    "        \"alpha\": [0.1, 0.5, 1, 5, 10, 50],\n",
    "        \"latent_dimension\": list(np.arange(2, 22, 2, dtype=int))}"
   ]
  },
  {
   "cell_type": "code",
   "execution_count": 17,
   "id": "ec9676ef",
   "metadata": {},
   "outputs": [
    {
     "name": "stdout",
     "output_type": "stream",
     "text": [
      "[100.0, 10000.0, 1000000.0, 100000000.0, 10000000000.0, 1000000000000.0]\n",
      "[1, 3, 5, 10]\n",
      "[0.1, 0.5, 1, 5, 10, 50]\n",
      "[2, 4, 6, 8, 10, 12, 14, 16, 18, 20]\n"
     ]
    }
   ],
   "source": [
    "for k, v in hyper.items():\n",
    "    print(v)"
   ]
  },
  {
   "cell_type": "code",
   "execution_count": 7,
   "id": "dbdb85d0",
   "metadata": {},
   "outputs": [],
   "source": [
    "base = {\"kappa\": 1e6,\n",
    "       \"alpha\": 5.7, \n",
    "       \"nlags\": 3,\n",
    "       \"latent_dimension\": 10}"
   ]
  },
  {
   "cell_type": "code",
   "execution_count": 8,
   "id": "5697e621",
   "metadata": {},
   "outputs": [],
   "source": [
    "from datetime import datetime"
   ]
  },
  {
   "cell_type": "code",
   "execution_count": 9,
   "id": "7af7a908",
   "metadata": {},
   "outputs": [],
   "source": [
    "import os"
   ]
  },
  {
   "cell_type": "code",
   "execution_count": 10,
   "id": "1af45f98",
   "metadata": {},
   "outputs": [
    {
     "name": "stdout",
     "output_type": "stream",
     "text": [
      "/scratch/gpfs/shruthi/pair_wt_gold/fitting/2023_03_07-08_38_55\n"
     ]
    }
   ],
   "source": [
    "base_date_string = str(datetime.now().strftime('%Y_%m_%d-%H_%M_%S'))\n",
    "save_data_to = r\"/scratch/gpfs/shruthi/pair_wt_gold/fitting/\"\n",
    "base_folder = os.path.join(save_data_to, base_date_string)\n",
    "print(base_folder)"
   ]
  },
  {
   "cell_type": "markdown",
   "id": "c0e83df6",
   "metadata": {},
   "source": [
    "### Setup list of sleap paths"
   ]
  },
  {
   "cell_type": "code",
   "execution_count": 11,
   "id": "3c7478ac",
   "metadata": {},
   "outputs": [
    {
     "name": "stdout",
     "output_type": "stream",
     "text": [
      "/scratch/gpfs/shruthi/pair_wt_gold/190612_110639_wt_18159211_rig1.1/inference.h5\n",
      "/scratch/gpfs/shruthi/pair_wt_gold/190612_110405_wt_18159111_rig2.2/inference.h5\n",
      "/scratch/gpfs/shruthi/pair_wt_gold/190612_110953_wt_18159203_rig3.1/inference.h5\n",
      "/scratch/gpfs/shruthi/pair_wt_gold/190612_110953_wt_18159112_rig3.2/inference.h5\n",
      "/scratch/gpfs/shruthi/pair_wt_gold/190612_110405_wt_16276625_rig2.1/inference.h5\n",
      "['/scratch/gpfs/shruthi/pair_wt_gold/190612_110639_wt_18159211_rig1.1/inference.h5', '/scratch/gpfs/shruthi/pair_wt_gold/190612_110405_wt_18159111_rig2.2/inference.h5', '/scratch/gpfs/shruthi/pair_wt_gold/190612_110953_wt_18159203_rig3.1/inference.h5', '/scratch/gpfs/shruthi/pair_wt_gold/190612_110953_wt_18159112_rig3.2/inference.h5', '/scratch/gpfs/shruthi/pair_wt_gold/190612_110405_wt_16276625_rig2.1/inference.h5']\n"
     ]
    }
   ],
   "source": [
    "video_dir = r'/scratch/gpfs/shruthi/pair_wt_gold/' \n",
    "sleap_paths = kpm.project.get_sleap_paths(video_dir)\n",
    "print(sleap_paths)"
   ]
  },
  {
   "cell_type": "code",
   "execution_count": 12,
   "id": "74faba57",
   "metadata": {},
   "outputs": [],
   "source": [
    "from pathlib import Path"
   ]
  },
  {
   "cell_type": "code",
   "execution_count": 13,
   "id": "9c0a8aa2",
   "metadata": {},
   "outputs": [],
   "source": [
    "use_bodyparts = ['thorax', 'abdomen', 'wingL', 'wingR', 'forelegL4', 'forelegR4', 'midlegL4', 'midlegR4', 'hindlegL4', 'hindlegR4']\n",
    "\n",
    "# kpm.update_config(\n",
    "#     project_dir,\n",
    "#     use_bodyparts=use_bodyparts,\n",
    "#     anterior_bodyparts=['thorax'], posterior_bodyparts=['abdomen'],\n",
    "#     latent_dimension=10, slope= -0.47, intercept= 0.236721,\n",
    "#     pca_fitting_num_frames = 270000,\n",
    "#     keypoint_colormap = 'cool'\n",
    "# )"
   ]
  },
  {
   "cell_type": "markdown",
   "id": "97271121",
   "metadata": {},
   "source": [
    "#### YAML is finicky about constructors to save np.float or np.int types so check types of the vals in `hyper`"
   ]
  },
  {
   "cell_type": "code",
   "execution_count": 22,
   "id": "38e71929",
   "metadata": {},
   "outputs": [
    {
     "name": "stdout",
     "output_type": "stream",
     "text": [
      "kappa\n",
      "<class 'numpy.float64'>\n",
      "<class 'float'>\n",
      "<class 'numpy.float64'>\n",
      "nlags\n",
      "<class 'int'>\n",
      "alpha\n",
      "<class 'float'>\n",
      "latent_dimension\n",
      "<class 'numpy.int64'>\n"
     ]
    }
   ],
   "source": [
    "for k, v in hyper.items():\n",
    "    print(k)\n",
    "    if k == 'kappa':\n",
    "        print(type(v[0]))\n",
    "        print(type(float(v[0])))\n",
    "    print(type(v[0]))"
   ]
  },
  {
   "cell_type": "markdown",
   "id": "26cc048a",
   "metadata": {},
   "source": [
    "#### Setup project directories with custom configs for each parameter to sweep"
   ]
  },
  {
   "cell_type": "code",
   "execution_count": 23,
   "id": "67a7d153",
   "metadata": {
    "collapsed": true
   },
   "outputs": [
    {
     "name": "stdout",
     "output_type": "stream",
     "text": [
      "/scratch/gpfs/shruthi/pair_wt_gold/fitting/2023_03_07-08_38_55/sweep_kappa/0\n",
      "{'kappa': 100.0}\n",
      "{'bodyparts': ['head', 'thorax', 'abdomen', 'wingL', 'wingR', 'forelegL4', 'forelegR4', 'midlegL4', 'midlegR4', 'hindlegL4', 'hindlegR4', 'eyeL', 'eyeR'], 'use_bodyparts': ['thorax', 'abdomen', 'wingL', 'wingR', 'forelegL4', 'forelegR4', 'midlegL4', 'midlegR4', 'hindlegL4', 'hindlegR4'], 'skeleton': [['thorax', 'head'], ['thorax', 'abdomen'], ['thorax', 'wingL'], ['thorax', 'wingR'], ['thorax', 'forelegL4'], ['thorax', 'forelegR4'], ['thorax', 'midlegL4'], ['thorax', 'midlegR4'], ['thorax', 'hindlegL4'], ['thorax', 'hindlegR4'], ['head', 'eyeL'], ['head', 'eyeR']], 'anterior_bodyparts': ['thorax'], 'posterior_bodyparts': ['abdomen'], 'use_instance': 1, 'added_noise_level': 0.1, 'PCA_fitting_num_frames': 1000000, 'conf_threshold': 0.5, 'error_estimator': {'intercept': 0.236721, 'slope': -0.47}, 'obs_hypparams': {'nu_s': 5, 'nu_sigma': 100000.0, 'sigmasq_0': 0.1, 'sigmasq_C': 0.1}, 'ar_hypparams': {'K_0_scale': 10.0, 'S_0_scale': 0.01, 'nlags': 3}, 'trans_hypparams': {'alpha': 5.7, 'gamma': 1000.0, 'kappa': 100.0, 'num_states': 100}, 'cen_hypparams': {'sigmasq_loc': 0.5}, 'verbose': True, 'conf_pseudocount': 0.001, 'video_dir': '/tigress/MMURTHY/junyu/data/pair/wt/190612_110639_wt_18159211_rig1.1', 'keypoint_colormap': 'cool', 'latent_dimension': 10, 'whiten': True, 'batch_length': 10000}\n",
      "/scratch/gpfs/shruthi/pair_wt_gold/fitting/2023_03_07-08_38_55/sweep_kappa/1\n",
      "{'kappa': 10000.0}\n",
      "{'bodyparts': ['head', 'thorax', 'abdomen', 'wingL', 'wingR', 'forelegL4', 'forelegR4', 'midlegL4', 'midlegR4', 'hindlegL4', 'hindlegR4', 'eyeL', 'eyeR'], 'use_bodyparts': ['thorax', 'abdomen', 'wingL', 'wingR', 'forelegL4', 'forelegR4', 'midlegL4', 'midlegR4', 'hindlegL4', 'hindlegR4'], 'skeleton': [['thorax', 'head'], ['thorax', 'abdomen'], ['thorax', 'wingL'], ['thorax', 'wingR'], ['thorax', 'forelegL4'], ['thorax', 'forelegR4'], ['thorax', 'midlegL4'], ['thorax', 'midlegR4'], ['thorax', 'hindlegL4'], ['thorax', 'hindlegR4'], ['head', 'eyeL'], ['head', 'eyeR']], 'anterior_bodyparts': ['thorax'], 'posterior_bodyparts': ['abdomen'], 'use_instance': 1, 'added_noise_level': 0.1, 'PCA_fitting_num_frames': 1000000, 'conf_threshold': 0.5, 'error_estimator': {'intercept': 0.236721, 'slope': -0.47}, 'obs_hypparams': {'nu_s': 5, 'nu_sigma': 100000.0, 'sigmasq_0': 0.1, 'sigmasq_C': 0.1}, 'ar_hypparams': {'K_0_scale': 10.0, 'S_0_scale': 0.01, 'nlags': 3}, 'trans_hypparams': {'alpha': 5.7, 'gamma': 1000.0, 'kappa': 10000.0, 'num_states': 100}, 'cen_hypparams': {'sigmasq_loc': 0.5}, 'verbose': True, 'conf_pseudocount': 0.001, 'video_dir': '/tigress/MMURTHY/junyu/data/pair/wt/190612_110639_wt_18159211_rig1.1', 'keypoint_colormap': 'cool', 'latent_dimension': 10, 'whiten': True, 'batch_length': 10000}\n",
      "/scratch/gpfs/shruthi/pair_wt_gold/fitting/2023_03_07-08_38_55/sweep_kappa/2\n",
      "{'kappa': 1000000.0}\n",
      "{'bodyparts': ['head', 'thorax', 'abdomen', 'wingL', 'wingR', 'forelegL4', 'forelegR4', 'midlegL4', 'midlegR4', 'hindlegL4', 'hindlegR4', 'eyeL', 'eyeR'], 'use_bodyparts': ['thorax', 'abdomen', 'wingL', 'wingR', 'forelegL4', 'forelegR4', 'midlegL4', 'midlegR4', 'hindlegL4', 'hindlegR4'], 'skeleton': [['thorax', 'head'], ['thorax', 'abdomen'], ['thorax', 'wingL'], ['thorax', 'wingR'], ['thorax', 'forelegL4'], ['thorax', 'forelegR4'], ['thorax', 'midlegL4'], ['thorax', 'midlegR4'], ['thorax', 'hindlegL4'], ['thorax', 'hindlegR4'], ['head', 'eyeL'], ['head', 'eyeR']], 'anterior_bodyparts': ['thorax'], 'posterior_bodyparts': ['abdomen'], 'use_instance': 1, 'added_noise_level': 0.1, 'PCA_fitting_num_frames': 1000000, 'conf_threshold': 0.5, 'error_estimator': {'intercept': 0.236721, 'slope': -0.47}, 'obs_hypparams': {'nu_s': 5, 'nu_sigma': 100000.0, 'sigmasq_0': 0.1, 'sigmasq_C': 0.1}, 'ar_hypparams': {'K_0_scale': 10.0, 'S_0_scale': 0.01, 'nlags': 3}, 'trans_hypparams': {'alpha': 5.7, 'gamma': 1000.0, 'kappa': 1000000.0, 'num_states': 100}, 'cen_hypparams': {'sigmasq_loc': 0.5}, 'verbose': True, 'conf_pseudocount': 0.001, 'video_dir': '/tigress/MMURTHY/junyu/data/pair/wt/190612_110639_wt_18159211_rig1.1', 'keypoint_colormap': 'cool', 'latent_dimension': 10, 'whiten': True, 'batch_length': 10000}\n",
      "/scratch/gpfs/shruthi/pair_wt_gold/fitting/2023_03_07-08_38_55/sweep_kappa/3\n",
      "{'kappa': 100000000.0}\n",
      "{'bodyparts': ['head', 'thorax', 'abdomen', 'wingL', 'wingR', 'forelegL4', 'forelegR4', 'midlegL4', 'midlegR4', 'hindlegL4', 'hindlegR4', 'eyeL', 'eyeR'], 'use_bodyparts': ['thorax', 'abdomen', 'wingL', 'wingR', 'forelegL4', 'forelegR4', 'midlegL4', 'midlegR4', 'hindlegL4', 'hindlegR4'], 'skeleton': [['thorax', 'head'], ['thorax', 'abdomen'], ['thorax', 'wingL'], ['thorax', 'wingR'], ['thorax', 'forelegL4'], ['thorax', 'forelegR4'], ['thorax', 'midlegL4'], ['thorax', 'midlegR4'], ['thorax', 'hindlegL4'], ['thorax', 'hindlegR4'], ['head', 'eyeL'], ['head', 'eyeR']], 'anterior_bodyparts': ['thorax'], 'posterior_bodyparts': ['abdomen'], 'use_instance': 1, 'added_noise_level': 0.1, 'PCA_fitting_num_frames': 1000000, 'conf_threshold': 0.5, 'error_estimator': {'intercept': 0.236721, 'slope': -0.47}, 'obs_hypparams': {'nu_s': 5, 'nu_sigma': 100000.0, 'sigmasq_0': 0.1, 'sigmasq_C': 0.1}, 'ar_hypparams': {'K_0_scale': 10.0, 'S_0_scale': 0.01, 'nlags': 3}, 'trans_hypparams': {'alpha': 5.7, 'gamma': 1000.0, 'kappa': 100000000.0, 'num_states': 100}, 'cen_hypparams': {'sigmasq_loc': 0.5}, 'verbose': True, 'conf_pseudocount': 0.001, 'video_dir': '/tigress/MMURTHY/junyu/data/pair/wt/190612_110639_wt_18159211_rig1.1', 'keypoint_colormap': 'cool', 'latent_dimension': 10, 'whiten': True, 'batch_length': 10000}\n",
      "/scratch/gpfs/shruthi/pair_wt_gold/fitting/2023_03_07-08_38_55/sweep_kappa/4\n",
      "{'kappa': 10000000000.0}\n",
      "{'bodyparts': ['head', 'thorax', 'abdomen', 'wingL', 'wingR', 'forelegL4', 'forelegR4', 'midlegL4', 'midlegR4', 'hindlegL4', 'hindlegR4', 'eyeL', 'eyeR'], 'use_bodyparts': ['thorax', 'abdomen', 'wingL', 'wingR', 'forelegL4', 'forelegR4', 'midlegL4', 'midlegR4', 'hindlegL4', 'hindlegR4'], 'skeleton': [['thorax', 'head'], ['thorax', 'abdomen'], ['thorax', 'wingL'], ['thorax', 'wingR'], ['thorax', 'forelegL4'], ['thorax', 'forelegR4'], ['thorax', 'midlegL4'], ['thorax', 'midlegR4'], ['thorax', 'hindlegL4'], ['thorax', 'hindlegR4'], ['head', 'eyeL'], ['head', 'eyeR']], 'anterior_bodyparts': ['thorax'], 'posterior_bodyparts': ['abdomen'], 'use_instance': 1, 'added_noise_level': 0.1, 'PCA_fitting_num_frames': 1000000, 'conf_threshold': 0.5, 'error_estimator': {'intercept': 0.236721, 'slope': -0.47}, 'obs_hypparams': {'nu_s': 5, 'nu_sigma': 100000.0, 'sigmasq_0': 0.1, 'sigmasq_C': 0.1}, 'ar_hypparams': {'K_0_scale': 10.0, 'S_0_scale': 0.01, 'nlags': 3}, 'trans_hypparams': {'alpha': 5.7, 'gamma': 1000.0, 'kappa': 10000000000.0, 'num_states': 100}, 'cen_hypparams': {'sigmasq_loc': 0.5}, 'verbose': True, 'conf_pseudocount': 0.001, 'video_dir': '/tigress/MMURTHY/junyu/data/pair/wt/190612_110639_wt_18159211_rig1.1', 'keypoint_colormap': 'cool', 'latent_dimension': 10, 'whiten': True, 'batch_length': 10000}\n",
      "/scratch/gpfs/shruthi/pair_wt_gold/fitting/2023_03_07-08_38_55/sweep_kappa/5\n",
      "{'kappa': 1000000000000.0}\n",
      "{'bodyparts': ['head', 'thorax', 'abdomen', 'wingL', 'wingR', 'forelegL4', 'forelegR4', 'midlegL4', 'midlegR4', 'hindlegL4', 'hindlegR4', 'eyeL', 'eyeR'], 'use_bodyparts': ['thorax', 'abdomen', 'wingL', 'wingR', 'forelegL4', 'forelegR4', 'midlegL4', 'midlegR4', 'hindlegL4', 'hindlegR4'], 'skeleton': [['thorax', 'head'], ['thorax', 'abdomen'], ['thorax', 'wingL'], ['thorax', 'wingR'], ['thorax', 'forelegL4'], ['thorax', 'forelegR4'], ['thorax', 'midlegL4'], ['thorax', 'midlegR4'], ['thorax', 'hindlegL4'], ['thorax', 'hindlegR4'], ['head', 'eyeL'], ['head', 'eyeR']], 'anterior_bodyparts': ['thorax'], 'posterior_bodyparts': ['abdomen'], 'use_instance': 1, 'added_noise_level': 0.1, 'PCA_fitting_num_frames': 1000000, 'conf_threshold': 0.5, 'error_estimator': {'intercept': 0.236721, 'slope': -0.47}, 'obs_hypparams': {'nu_s': 5, 'nu_sigma': 100000.0, 'sigmasq_0': 0.1, 'sigmasq_C': 0.1}, 'ar_hypparams': {'K_0_scale': 10.0, 'S_0_scale': 0.01, 'nlags': 3}, 'trans_hypparams': {'alpha': 5.7, 'gamma': 1000.0, 'kappa': 1000000000000.0, 'num_states': 100}, 'cen_hypparams': {'sigmasq_loc': 0.5}, 'verbose': True, 'conf_pseudocount': 0.001, 'video_dir': '/tigress/MMURTHY/junyu/data/pair/wt/190612_110639_wt_18159211_rig1.1', 'keypoint_colormap': 'cool', 'latent_dimension': 10, 'whiten': True, 'batch_length': 10000}\n",
      "/scratch/gpfs/shruthi/pair_wt_gold/fitting/2023_03_07-08_38_55/sweep_kappa\n",
      "/scratch/gpfs/shruthi/pair_wt_gold/fitting/2023_03_07-08_38_55/sweep_nlags/0\n"
     ]
    },
    {
     "name": "stdout",
     "output_type": "stream",
     "text": [
      "{'kappa': 1000000000000.0}\n",
      "{'bodyparts': ['head', 'thorax', 'abdomen', 'wingL', 'wingR', 'forelegL4', 'forelegR4', 'midlegL4', 'midlegR4', 'hindlegL4', 'hindlegR4', 'eyeL', 'eyeR'], 'use_bodyparts': ['thorax', 'abdomen', 'wingL', 'wingR', 'forelegL4', 'forelegR4', 'midlegL4', 'midlegR4', 'hindlegL4', 'hindlegR4'], 'skeleton': [['thorax', 'head'], ['thorax', 'abdomen'], ['thorax', 'wingL'], ['thorax', 'wingR'], ['thorax', 'forelegL4'], ['thorax', 'forelegR4'], ['thorax', 'midlegL4'], ['thorax', 'midlegR4'], ['thorax', 'hindlegL4'], ['thorax', 'hindlegR4'], ['head', 'eyeL'], ['head', 'eyeR']], 'anterior_bodyparts': ['thorax'], 'posterior_bodyparts': ['abdomen'], 'use_instance': 1, 'added_noise_level': 0.1, 'PCA_fitting_num_frames': 1000000, 'conf_threshold': 0.5, 'error_estimator': {'intercept': 0.236721, 'slope': -0.47}, 'obs_hypparams': {'nu_s': 5, 'nu_sigma': 100000.0, 'sigmasq_0': 0.1, 'sigmasq_C': 0.1}, 'ar_hypparams': {'K_0_scale': 10.0, 'S_0_scale': 0.01, 'nlags': 3}, 'trans_hypparams': {'alpha': 5.7, 'gamma': 1000.0, 'kappa': 1000000000000.0, 'num_states': 100}, 'cen_hypparams': {'sigmasq_loc': 0.5}, 'verbose': True, 'conf_pseudocount': 0.001, 'video_dir': '/tigress/MMURTHY/junyu/data/pair/wt/190612_110639_wt_18159211_rig1.1', 'keypoint_colormap': 'cool', 'latent_dimension': 10, 'whiten': True, 'batch_length': 10000}\n",
      "/scratch/gpfs/shruthi/pair_wt_gold/fitting/2023_03_07-08_38_55/sweep_nlags/1\n",
      "{'kappa': 1000000000000.0}\n",
      "{'bodyparts': ['head', 'thorax', 'abdomen', 'wingL', 'wingR', 'forelegL4', 'forelegR4', 'midlegL4', 'midlegR4', 'hindlegL4', 'hindlegR4', 'eyeL', 'eyeR'], 'use_bodyparts': ['thorax', 'abdomen', 'wingL', 'wingR', 'forelegL4', 'forelegR4', 'midlegL4', 'midlegR4', 'hindlegL4', 'hindlegR4'], 'skeleton': [['thorax', 'head'], ['thorax', 'abdomen'], ['thorax', 'wingL'], ['thorax', 'wingR'], ['thorax', 'forelegL4'], ['thorax', 'forelegR4'], ['thorax', 'midlegL4'], ['thorax', 'midlegR4'], ['thorax', 'hindlegL4'], ['thorax', 'hindlegR4'], ['head', 'eyeL'], ['head', 'eyeR']], 'anterior_bodyparts': ['thorax'], 'posterior_bodyparts': ['abdomen'], 'use_instance': 1, 'added_noise_level': 0.1, 'PCA_fitting_num_frames': 1000000, 'conf_threshold': 0.5, 'error_estimator': {'intercept': 0.236721, 'slope': -0.47}, 'obs_hypparams': {'nu_s': 5, 'nu_sigma': 100000.0, 'sigmasq_0': 0.1, 'sigmasq_C': 0.1}, 'ar_hypparams': {'K_0_scale': 10.0, 'S_0_scale': 0.01, 'nlags': 3}, 'trans_hypparams': {'alpha': 5.7, 'gamma': 1000.0, 'kappa': 1000000000000.0, 'num_states': 100}, 'cen_hypparams': {'sigmasq_loc': 0.5}, 'verbose': True, 'conf_pseudocount': 0.001, 'video_dir': '/tigress/MMURTHY/junyu/data/pair/wt/190612_110639_wt_18159211_rig1.1', 'keypoint_colormap': 'cool', 'latent_dimension': 10, 'whiten': True, 'batch_length': 10000}\n",
      "/scratch/gpfs/shruthi/pair_wt_gold/fitting/2023_03_07-08_38_55/sweep_nlags/2\n",
      "{'kappa': 1000000000000.0}\n",
      "{'bodyparts': ['head', 'thorax', 'abdomen', 'wingL', 'wingR', 'forelegL4', 'forelegR4', 'midlegL4', 'midlegR4', 'hindlegL4', 'hindlegR4', 'eyeL', 'eyeR'], 'use_bodyparts': ['thorax', 'abdomen', 'wingL', 'wingR', 'forelegL4', 'forelegR4', 'midlegL4', 'midlegR4', 'hindlegL4', 'hindlegR4'], 'skeleton': [['thorax', 'head'], ['thorax', 'abdomen'], ['thorax', 'wingL'], ['thorax', 'wingR'], ['thorax', 'forelegL4'], ['thorax', 'forelegR4'], ['thorax', 'midlegL4'], ['thorax', 'midlegR4'], ['thorax', 'hindlegL4'], ['thorax', 'hindlegR4'], ['head', 'eyeL'], ['head', 'eyeR']], 'anterior_bodyparts': ['thorax'], 'posterior_bodyparts': ['abdomen'], 'use_instance': 1, 'added_noise_level': 0.1, 'PCA_fitting_num_frames': 1000000, 'conf_threshold': 0.5, 'error_estimator': {'intercept': 0.236721, 'slope': -0.47}, 'obs_hypparams': {'nu_s': 5, 'nu_sigma': 100000.0, 'sigmasq_0': 0.1, 'sigmasq_C': 0.1}, 'ar_hypparams': {'K_0_scale': 10.0, 'S_0_scale': 0.01, 'nlags': 3}, 'trans_hypparams': {'alpha': 5.7, 'gamma': 1000.0, 'kappa': 1000000000000.0, 'num_states': 100}, 'cen_hypparams': {'sigmasq_loc': 0.5}, 'verbose': True, 'conf_pseudocount': 0.001, 'video_dir': '/tigress/MMURTHY/junyu/data/pair/wt/190612_110639_wt_18159211_rig1.1', 'keypoint_colormap': 'cool', 'latent_dimension': 10, 'whiten': True, 'batch_length': 10000}\n",
      "/scratch/gpfs/shruthi/pair_wt_gold/fitting/2023_03_07-08_38_55/sweep_nlags/3\n",
      "{'kappa': 1000000000000.0}\n",
      "{'bodyparts': ['head', 'thorax', 'abdomen', 'wingL', 'wingR', 'forelegL4', 'forelegR4', 'midlegL4', 'midlegR4', 'hindlegL4', 'hindlegR4', 'eyeL', 'eyeR'], 'use_bodyparts': ['thorax', 'abdomen', 'wingL', 'wingR', 'forelegL4', 'forelegR4', 'midlegL4', 'midlegR4', 'hindlegL4', 'hindlegR4'], 'skeleton': [['thorax', 'head'], ['thorax', 'abdomen'], ['thorax', 'wingL'], ['thorax', 'wingR'], ['thorax', 'forelegL4'], ['thorax', 'forelegR4'], ['thorax', 'midlegL4'], ['thorax', 'midlegR4'], ['thorax', 'hindlegL4'], ['thorax', 'hindlegR4'], ['head', 'eyeL'], ['head', 'eyeR']], 'anterior_bodyparts': ['thorax'], 'posterior_bodyparts': ['abdomen'], 'use_instance': 1, 'added_noise_level': 0.1, 'PCA_fitting_num_frames': 1000000, 'conf_threshold': 0.5, 'error_estimator': {'intercept': 0.236721, 'slope': -0.47}, 'obs_hypparams': {'nu_s': 5, 'nu_sigma': 100000.0, 'sigmasq_0': 0.1, 'sigmasq_C': 0.1}, 'ar_hypparams': {'K_0_scale': 10.0, 'S_0_scale': 0.01, 'nlags': 3}, 'trans_hypparams': {'alpha': 5.7, 'gamma': 1000.0, 'kappa': 1000000000000.0, 'num_states': 100}, 'cen_hypparams': {'sigmasq_loc': 0.5}, 'verbose': True, 'conf_pseudocount': 0.001, 'video_dir': '/tigress/MMURTHY/junyu/data/pair/wt/190612_110639_wt_18159211_rig1.1', 'keypoint_colormap': 'cool', 'latent_dimension': 10, 'whiten': True, 'batch_length': 10000}\n",
      "/scratch/gpfs/shruthi/pair_wt_gold/fitting/2023_03_07-08_38_55/sweep_nlags\n",
      "/scratch/gpfs/shruthi/pair_wt_gold/fitting/2023_03_07-08_38_55/sweep_alpha/0\n",
      "{'kappa': 1000000000000.0}\n",
      "{'bodyparts': ['head', 'thorax', 'abdomen', 'wingL', 'wingR', 'forelegL4', 'forelegR4', 'midlegL4', 'midlegR4', 'hindlegL4', 'hindlegR4', 'eyeL', 'eyeR'], 'use_bodyparts': ['thorax', 'abdomen', 'wingL', 'wingR', 'forelegL4', 'forelegR4', 'midlegL4', 'midlegR4', 'hindlegL4', 'hindlegR4'], 'skeleton': [['thorax', 'head'], ['thorax', 'abdomen'], ['thorax', 'wingL'], ['thorax', 'wingR'], ['thorax', 'forelegL4'], ['thorax', 'forelegR4'], ['thorax', 'midlegL4'], ['thorax', 'midlegR4'], ['thorax', 'hindlegL4'], ['thorax', 'hindlegR4'], ['head', 'eyeL'], ['head', 'eyeR']], 'anterior_bodyparts': ['thorax'], 'posterior_bodyparts': ['abdomen'], 'use_instance': 1, 'added_noise_level': 0.1, 'PCA_fitting_num_frames': 1000000, 'conf_threshold': 0.5, 'error_estimator': {'intercept': 0.236721, 'slope': -0.47}, 'obs_hypparams': {'nu_s': 5, 'nu_sigma': 100000.0, 'sigmasq_0': 0.1, 'sigmasq_C': 0.1}, 'ar_hypparams': {'K_0_scale': 10.0, 'S_0_scale': 0.01, 'nlags': 3}, 'trans_hypparams': {'alpha': 5.7, 'gamma': 1000.0, 'kappa': 1000000000000.0, 'num_states': 100}, 'cen_hypparams': {'sigmasq_loc': 0.5}, 'verbose': True, 'conf_pseudocount': 0.001, 'video_dir': '/tigress/MMURTHY/junyu/data/pair/wt/190612_110639_wt_18159211_rig1.1', 'keypoint_colormap': 'cool', 'latent_dimension': 10, 'whiten': True, 'batch_length': 10000}\n",
      "/scratch/gpfs/shruthi/pair_wt_gold/fitting/2023_03_07-08_38_55/sweep_alpha/1\n",
      "{'kappa': 1000000000000.0}\n",
      "{'bodyparts': ['head', 'thorax', 'abdomen', 'wingL', 'wingR', 'forelegL4', 'forelegR4', 'midlegL4', 'midlegR4', 'hindlegL4', 'hindlegR4', 'eyeL', 'eyeR'], 'use_bodyparts': ['thorax', 'abdomen', 'wingL', 'wingR', 'forelegL4', 'forelegR4', 'midlegL4', 'midlegR4', 'hindlegL4', 'hindlegR4'], 'skeleton': [['thorax', 'head'], ['thorax', 'abdomen'], ['thorax', 'wingL'], ['thorax', 'wingR'], ['thorax', 'forelegL4'], ['thorax', 'forelegR4'], ['thorax', 'midlegL4'], ['thorax', 'midlegR4'], ['thorax', 'hindlegL4'], ['thorax', 'hindlegR4'], ['head', 'eyeL'], ['head', 'eyeR']], 'anterior_bodyparts': ['thorax'], 'posterior_bodyparts': ['abdomen'], 'use_instance': 1, 'added_noise_level': 0.1, 'PCA_fitting_num_frames': 1000000, 'conf_threshold': 0.5, 'error_estimator': {'intercept': 0.236721, 'slope': -0.47}, 'obs_hypparams': {'nu_s': 5, 'nu_sigma': 100000.0, 'sigmasq_0': 0.1, 'sigmasq_C': 0.1}, 'ar_hypparams': {'K_0_scale': 10.0, 'S_0_scale': 0.01, 'nlags': 3}, 'trans_hypparams': {'alpha': 5.7, 'gamma': 1000.0, 'kappa': 1000000000000.0, 'num_states': 100}, 'cen_hypparams': {'sigmasq_loc': 0.5}, 'verbose': True, 'conf_pseudocount': 0.001, 'video_dir': '/tigress/MMURTHY/junyu/data/pair/wt/190612_110639_wt_18159211_rig1.1', 'keypoint_colormap': 'cool', 'latent_dimension': 10, 'whiten': True, 'batch_length': 10000}\n",
      "/scratch/gpfs/shruthi/pair_wt_gold/fitting/2023_03_07-08_38_55/sweep_alpha/2\n"
     ]
    },
    {
     "name": "stdout",
     "output_type": "stream",
     "text": [
      "{'kappa': 1000000000000.0}\n",
      "{'bodyparts': ['head', 'thorax', 'abdomen', 'wingL', 'wingR', 'forelegL4', 'forelegR4', 'midlegL4', 'midlegR4', 'hindlegL4', 'hindlegR4', 'eyeL', 'eyeR'], 'use_bodyparts': ['thorax', 'abdomen', 'wingL', 'wingR', 'forelegL4', 'forelegR4', 'midlegL4', 'midlegR4', 'hindlegL4', 'hindlegR4'], 'skeleton': [['thorax', 'head'], ['thorax', 'abdomen'], ['thorax', 'wingL'], ['thorax', 'wingR'], ['thorax', 'forelegL4'], ['thorax', 'forelegR4'], ['thorax', 'midlegL4'], ['thorax', 'midlegR4'], ['thorax', 'hindlegL4'], ['thorax', 'hindlegR4'], ['head', 'eyeL'], ['head', 'eyeR']], 'anterior_bodyparts': ['thorax'], 'posterior_bodyparts': ['abdomen'], 'use_instance': 1, 'added_noise_level': 0.1, 'PCA_fitting_num_frames': 1000000, 'conf_threshold': 0.5, 'error_estimator': {'intercept': 0.236721, 'slope': -0.47}, 'obs_hypparams': {'nu_s': 5, 'nu_sigma': 100000.0, 'sigmasq_0': 0.1, 'sigmasq_C': 0.1}, 'ar_hypparams': {'K_0_scale': 10.0, 'S_0_scale': 0.01, 'nlags': 3}, 'trans_hypparams': {'alpha': 5.7, 'gamma': 1000.0, 'kappa': 1000000000000.0, 'num_states': 100}, 'cen_hypparams': {'sigmasq_loc': 0.5}, 'verbose': True, 'conf_pseudocount': 0.001, 'video_dir': '/tigress/MMURTHY/junyu/data/pair/wt/190612_110639_wt_18159211_rig1.1', 'keypoint_colormap': 'cool', 'latent_dimension': 10, 'whiten': True, 'batch_length': 10000}\n",
      "/scratch/gpfs/shruthi/pair_wt_gold/fitting/2023_03_07-08_38_55/sweep_alpha/3\n",
      "{'kappa': 1000000000000.0}\n",
      "{'bodyparts': ['head', 'thorax', 'abdomen', 'wingL', 'wingR', 'forelegL4', 'forelegR4', 'midlegL4', 'midlegR4', 'hindlegL4', 'hindlegR4', 'eyeL', 'eyeR'], 'use_bodyparts': ['thorax', 'abdomen', 'wingL', 'wingR', 'forelegL4', 'forelegR4', 'midlegL4', 'midlegR4', 'hindlegL4', 'hindlegR4'], 'skeleton': [['thorax', 'head'], ['thorax', 'abdomen'], ['thorax', 'wingL'], ['thorax', 'wingR'], ['thorax', 'forelegL4'], ['thorax', 'forelegR4'], ['thorax', 'midlegL4'], ['thorax', 'midlegR4'], ['thorax', 'hindlegL4'], ['thorax', 'hindlegR4'], ['head', 'eyeL'], ['head', 'eyeR']], 'anterior_bodyparts': ['thorax'], 'posterior_bodyparts': ['abdomen'], 'use_instance': 1, 'added_noise_level': 0.1, 'PCA_fitting_num_frames': 1000000, 'conf_threshold': 0.5, 'error_estimator': {'intercept': 0.236721, 'slope': -0.47}, 'obs_hypparams': {'nu_s': 5, 'nu_sigma': 100000.0, 'sigmasq_0': 0.1, 'sigmasq_C': 0.1}, 'ar_hypparams': {'K_0_scale': 10.0, 'S_0_scale': 0.01, 'nlags': 3}, 'trans_hypparams': {'alpha': 5.7, 'gamma': 1000.0, 'kappa': 1000000000000.0, 'num_states': 100}, 'cen_hypparams': {'sigmasq_loc': 0.5}, 'verbose': True, 'conf_pseudocount': 0.001, 'video_dir': '/tigress/MMURTHY/junyu/data/pair/wt/190612_110639_wt_18159211_rig1.1', 'keypoint_colormap': 'cool', 'latent_dimension': 10, 'whiten': True, 'batch_length': 10000}\n",
      "/scratch/gpfs/shruthi/pair_wt_gold/fitting/2023_03_07-08_38_55/sweep_alpha/4\n",
      "{'kappa': 1000000000000.0}\n",
      "{'bodyparts': ['head', 'thorax', 'abdomen', 'wingL', 'wingR', 'forelegL4', 'forelegR4', 'midlegL4', 'midlegR4', 'hindlegL4', 'hindlegR4', 'eyeL', 'eyeR'], 'use_bodyparts': ['thorax', 'abdomen', 'wingL', 'wingR', 'forelegL4', 'forelegR4', 'midlegL4', 'midlegR4', 'hindlegL4', 'hindlegR4'], 'skeleton': [['thorax', 'head'], ['thorax', 'abdomen'], ['thorax', 'wingL'], ['thorax', 'wingR'], ['thorax', 'forelegL4'], ['thorax', 'forelegR4'], ['thorax', 'midlegL4'], ['thorax', 'midlegR4'], ['thorax', 'hindlegL4'], ['thorax', 'hindlegR4'], ['head', 'eyeL'], ['head', 'eyeR']], 'anterior_bodyparts': ['thorax'], 'posterior_bodyparts': ['abdomen'], 'use_instance': 1, 'added_noise_level': 0.1, 'PCA_fitting_num_frames': 1000000, 'conf_threshold': 0.5, 'error_estimator': {'intercept': 0.236721, 'slope': -0.47}, 'obs_hypparams': {'nu_s': 5, 'nu_sigma': 100000.0, 'sigmasq_0': 0.1, 'sigmasq_C': 0.1}, 'ar_hypparams': {'K_0_scale': 10.0, 'S_0_scale': 0.01, 'nlags': 3}, 'trans_hypparams': {'alpha': 5.7, 'gamma': 1000.0, 'kappa': 1000000000000.0, 'num_states': 100}, 'cen_hypparams': {'sigmasq_loc': 0.5}, 'verbose': True, 'conf_pseudocount': 0.001, 'video_dir': '/tigress/MMURTHY/junyu/data/pair/wt/190612_110639_wt_18159211_rig1.1', 'keypoint_colormap': 'cool', 'latent_dimension': 10, 'whiten': True, 'batch_length': 10000}\n",
      "/scratch/gpfs/shruthi/pair_wt_gold/fitting/2023_03_07-08_38_55/sweep_alpha/5\n",
      "{'kappa': 1000000000000.0}\n",
      "{'bodyparts': ['head', 'thorax', 'abdomen', 'wingL', 'wingR', 'forelegL4', 'forelegR4', 'midlegL4', 'midlegR4', 'hindlegL4', 'hindlegR4', 'eyeL', 'eyeR'], 'use_bodyparts': ['thorax', 'abdomen', 'wingL', 'wingR', 'forelegL4', 'forelegR4', 'midlegL4', 'midlegR4', 'hindlegL4', 'hindlegR4'], 'skeleton': [['thorax', 'head'], ['thorax', 'abdomen'], ['thorax', 'wingL'], ['thorax', 'wingR'], ['thorax', 'forelegL4'], ['thorax', 'forelegR4'], ['thorax', 'midlegL4'], ['thorax', 'midlegR4'], ['thorax', 'hindlegL4'], ['thorax', 'hindlegR4'], ['head', 'eyeL'], ['head', 'eyeR']], 'anterior_bodyparts': ['thorax'], 'posterior_bodyparts': ['abdomen'], 'use_instance': 1, 'added_noise_level': 0.1, 'PCA_fitting_num_frames': 1000000, 'conf_threshold': 0.5, 'error_estimator': {'intercept': 0.236721, 'slope': -0.47}, 'obs_hypparams': {'nu_s': 5, 'nu_sigma': 100000.0, 'sigmasq_0': 0.1, 'sigmasq_C': 0.1}, 'ar_hypparams': {'K_0_scale': 10.0, 'S_0_scale': 0.01, 'nlags': 3}, 'trans_hypparams': {'alpha': 5.7, 'gamma': 1000.0, 'kappa': 1000000000000.0, 'num_states': 100}, 'cen_hypparams': {'sigmasq_loc': 0.5}, 'verbose': True, 'conf_pseudocount': 0.001, 'video_dir': '/tigress/MMURTHY/junyu/data/pair/wt/190612_110639_wt_18159211_rig1.1', 'keypoint_colormap': 'cool', 'latent_dimension': 10, 'whiten': True, 'batch_length': 10000}\n",
      "/scratch/gpfs/shruthi/pair_wt_gold/fitting/2023_03_07-08_38_55/sweep_alpha\n",
      "/scratch/gpfs/shruthi/pair_wt_gold/fitting/2023_03_07-08_38_55/sweep_latent_dimension/0\n",
      "{'latent_dimension': 2}\n"
     ]
    },
    {
     "ename": "TypeError",
     "evalue": "update_config() got multiple values for keyword argument 'latent_dimension'",
     "output_type": "error",
     "traceback": [
      "\u001b[0;31m---------------------------------------------------------------------------\u001b[0m",
      "\u001b[0;31mTypeError\u001b[0m                                 Traceback (most recent call last)",
      "Cell \u001b[0;32mIn[23], line 15\u001b[0m\n\u001b[1;32m     13\u001b[0m         update_dict \u001b[38;5;241m=\u001b[39m {k: \u001b[38;5;28mint\u001b[39m(v[vi])}\n\u001b[1;32m     14\u001b[0m     \u001b[38;5;28mprint\u001b[39m(update_dict)\n\u001b[0;32m---> 15\u001b[0m     kpm\u001b[38;5;241m.\u001b[39mupdate_config(project_dir, \n\u001b[1;32m     16\u001b[0m                       use_bodyparts\u001b[38;5;241m=\u001b[39muse_bodyparts,\n\u001b[1;32m     17\u001b[0m                       anterior_bodyparts\u001b[38;5;241m=\u001b[39m[\u001b[38;5;124m'\u001b[39m\u001b[38;5;124mthorax\u001b[39m\u001b[38;5;124m'\u001b[39m],\n\u001b[1;32m     18\u001b[0m                       posterior_bodyparts\u001b[38;5;241m=\u001b[39m[\u001b[38;5;124m'\u001b[39m\u001b[38;5;124mabdomen\u001b[39m\u001b[38;5;124m'\u001b[39m],\n\u001b[1;32m     19\u001b[0m                       latent_dimension\u001b[38;5;241m=\u001b[39m\u001b[38;5;241m10\u001b[39m,\n\u001b[1;32m     20\u001b[0m                       slope\u001b[38;5;241m=\u001b[39m \u001b[38;5;241m-\u001b[39m\u001b[38;5;241m0.47\u001b[39m,\n\u001b[1;32m     21\u001b[0m                       intercept\u001b[38;5;241m=\u001b[39m \u001b[38;5;241m0.236721\u001b[39m,\n\u001b[1;32m     22\u001b[0m                     pca_fitting_num_frames \u001b[38;5;241m=\u001b[39m \u001b[38;5;241m270000\u001b[39m,\n\u001b[1;32m     23\u001b[0m                     keypoint_colormap \u001b[38;5;241m=\u001b[39m \u001b[38;5;124m'\u001b[39m\u001b[38;5;124mcool\u001b[39m\u001b[38;5;124m'\u001b[39m,\n\u001b[1;32m     24\u001b[0m                      \u001b[38;5;241m*\u001b[39m\u001b[38;5;241m*\u001b[39mupdate_dict)\n\u001b[1;32m     25\u001b[0m     \u001b[38;5;28mprint\u001b[39m(kpm\u001b[38;5;241m.\u001b[39mload_config(project_dir))\n\u001b[1;32m     26\u001b[0m \u001b[38;5;28mprint\u001b[39m(save_folder)\n",
      "\u001b[0;31mTypeError\u001b[0m: update_config() got multiple values for keyword argument 'latent_dimension'"
     ]
    }
   ],
   "source": [
    "for k, v in hyper.items():\n",
    "    save_folder = os.path.join(base_folder, f\"sweep_{k}\")\n",
    "    for vi in range(len(v)):\n",
    "        project_dir = os.path.join(save_folder, str(int(vi)))\n",
    "        print(project_dir)\n",
    "        Path(project_dir).mkdir(parents=True, exist_ok=True)\n",
    "        kpm.setup_project_from_slp(project_dir,\n",
    "                                   sample_slp_file=sleap_paths[0],\n",
    "                                   overwrite=True) # Make sure a sample slp file exists\n",
    "        if k == 'kappa':\n",
    "            update_dict = {k: float(v[vi])} # YAML writing doesn't support np.float64 or np.int64 datatypes\n",
    "        elif k == 'latent_dimension':\n",
    "            update_dict = {k: int(v[vi])}\n",
    "        print(update_dict)\n",
    "        kpm.update_config(project_dir, \n",
    "                          use_bodyparts=use_bodyparts,\n",
    "                          anterior_bodyparts=['thorax'],\n",
    "                          posterior_bodyparts=['abdomen'],\n",
    "                          latent_dimension=10,\n",
    "                          slope= -0.47,\n",
    "                          intercept= 0.236721,\n",
    "                        pca_fitting_num_frames = 270000,\n",
    "                        keypoint_colormap = 'cool',\n",
    "                         **update_dict)\n",
    "        print(kpm.load_config(project_dir))\n",
    "    print(save_folder)\n",
    "    "
   ]
  },
  {
   "cell_type": "markdown",
   "id": "2e6134d3",
   "metadata": {},
   "source": [
    "#### Write project directories to a .txt file that can then be used to call fitting "
   ]
  },
  {
   "cell_type": "code",
   "execution_count": 24,
   "id": "e90239b6",
   "metadata": {},
   "outputs": [
    {
     "name": "stdout",
     "output_type": "stream",
     "text": [
      "/scratch/gpfs/shruthi/pair_wt_gold/fitting/2023_03_07-08_38_55\n"
     ]
    }
   ],
   "source": [
    "print(base_folder)"
   ]
  },
  {
   "cell_type": "code",
   "execution_count": 26,
   "id": "9b62f7e1",
   "metadata": {},
   "outputs": [],
   "source": [
    "txt_file_name = os.path.join(base_folder, 'array_args.txt')\n",
    "with open(txt_file_name, 'w') as txt_file:\n",
    "    for k, v in hyper.items():\n",
    "        save_folder = os.path.join(base_folder, f\"sweep_{k}\")\n",
    "        for vi in range(len(v)):\n",
    "            project_dir = os.path.join(save_folder, str(int(vi)))\n",
    "            txt_file.write(project_dir+\"\\n\")"
   ]
  }
 ],
 "metadata": {
  "kernelspec": {
   "display_name": "Python 3 (ipykernel)",
   "language": "python",
   "name": "python3"
  },
  "language_info": {
   "codemirror_mode": {
    "name": "ipython",
    "version": 3
   },
   "file_extension": ".py",
   "mimetype": "text/x-python",
   "name": "python",
   "nbconvert_exporter": "python",
   "pygments_lexer": "ipython3",
   "version": "3.8.15"
  }
 },
 "nbformat": 4,
 "nbformat_minor": 5
}
